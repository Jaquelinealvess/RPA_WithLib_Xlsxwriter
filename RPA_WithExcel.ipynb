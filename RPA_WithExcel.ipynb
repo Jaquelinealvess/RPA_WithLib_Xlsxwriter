{
 "cells": [
  {
   "cell_type": "code",
   "execution_count": 1,
   "id": "c33c6108",
   "metadata": {},
   "outputs": [
    {
     "name": "stdout",
     "output_type": "stream",
     "text": [
      "Defaulting to user installation because normal site-packages is not writeable\n",
      "Requirement already satisfied: xlsxwriter in c:\\programdata\\anaconda3\\lib\\site-packages (3.0.3)\n"
     ]
    },
    {
     "name": "stderr",
     "output_type": "stream",
     "text": [
      "WARNING: Ignoring invalid distribution -andas (c:\\programdata\\anaconda3\\lib\\site-packages)\n",
      "WARNING: Ignoring invalid distribution -andas (c:\\programdata\\anaconda3\\lib\\site-packages)\n",
      "WARNING: Ignoring invalid distribution -andas (c:\\programdata\\anaconda3\\lib\\site-packages)\n",
      "WARNING: Ignoring invalid distribution -andas (c:\\programdata\\anaconda3\\lib\\site-packages)\n"
     ]
    }
   ],
   "source": [
    "!pip install xlsxwriter"
   ]
  },
  {
   "cell_type": "code",
   "execution_count": 3,
   "id": "80b6b2b6",
   "metadata": {},
   "outputs": [],
   "source": [
    "import xlsxwriter\n",
    "import os\n",
    "\n",
    "# criando arquivo excel com nome Dolar e Euro Google1.xlsx no caminho especificado\n",
    "nomeCaminhoArquivo = 'C:\\\\Users\\\\jasantos\\\\Curso RPA\\\\RPA_lIB_XlsxWriter\\\\Arquivos\\\\Dolar e Euro Google1.xlsx'\n",
    "planilhaCriada = xlsxwriter.Workbook(nomeCaminhoArquivo)\n",
    "\n",
    "# criando uma sheet em branco com o nome dsheet1\n",
    "sheet1 = planilhaCriada.add_worksheet() \n",
    "sheet1 .write(\"A1\", \"Nome\")\n",
    "sheet1 .write(\"B1\", \"Idade\")\n",
    "sheet1 .write(\"A2\", \"Jaqueline\")\n",
    "sheet1 .write(\"B2\", \"36\")\n",
    "sheet1 .write(\"A3\", \"Olavo\")\n",
    "sheet1 .write(\"B3\", \"44\")\n",
    "planilhaCriada.close()\n",
    "\n",
    "os.startfile(nomeCaminhoArquivo)\n"
   ]
  },
  {
   "cell_type": "code",
   "execution_count": 6,
   "id": "2a36e508",
   "metadata": {},
   "outputs": [
    {
     "name": "stdout",
     "output_type": "stream",
     "text": [
      "Dolar e Euro extraido com sucesso\n"
     ]
    }
   ],
   "source": [
    "#Abrindo o Google e capturando o valor do dolar\n",
    " \n",
    "from selenium import webdriver as opcoes_selenium_aula\n",
    "from selenium.webdriver.common.keys import Keys\n",
    "import pyautogui as tempoPausaComputador\n",
    "import xlsxwriter\n",
    "import os\n",
    " \n",
    "meuNavegador = opcoes_selenium_aula.Chrome()\n",
    "meuNavegador.get(\"https://www.google.com.br/\")\n",
    " \n",
    "#Aguarda 4 segundos\n",
    "tempoPausaComputador.sleep(4)\n",
    " \n",
    "#Procura o campo nome que está como tag 'q' \n",
    "#Depois que encontrar digita Dolar Hoje\n",
    "meuNavegador.find_element_by_name(\"q\").send_keys(\"Dolar hoje\")\n",
    " \n",
    "#Aguarda 4 segundos\n",
    "tempoPausaComputador.sleep(4)\n",
    " \n",
    "#Retorna para o campo nome q\n",
    "meuNavegador.find_element_by_name(\"q\").send_keys(Keys.RETURN)\n",
    " \n",
    "#Aguarda 4 segundos\n",
    "tempoPausaComputador.sleep(4)\n",
    " \n",
    "valorDolarPeloGoogle = meuNavegador.find_elements_by_xpath('//*[@id=\"knowledge-currency__updatable-data-column\"]/div[1]/div[2]/span[1]')[0].text\n",
    "\n",
    "# ------------------------------------------------------------\n",
    "tempoPausaComputador.sleep(4)\n",
    " \n",
    "\n",
    "#Voltando para o campo de digitação\n",
    "meuNavegador.find_element_by_name(\"q\").send_keys(\"\")\n",
    "\n",
    "tempoPausaComputador.sleep(4)\n",
    "\n",
    "# usando o Pyautogui para apertar \n",
    "tempoPausaComputador.press('tab')\n",
    "\n",
    "# usando o Pyautogui para apertar enter\n",
    "tempoPausaComputador.press('enter')\n",
    "tempoPausaComputador.sleep(2)\n",
    "\n",
    "#Depois que encontrar digita euro\n",
    "meuNavegador.find_element_by_name(\"q\").send_keys(\"Euro\")\n",
    "tempoPausaComputador.sleep(4)\n",
    "\n",
    "#Retorna para o campo nome q\n",
    "meuNavegador.find_element_by_name(\"q\").send_keys(Keys.RETURN)\n",
    "\n",
    "valorEuroPeloGoogle = meuNavegador.find_elements_by_xpath('//*[@id=\"knowledge-currency__updatable-data-column\"]/div[1]/div[2]/span[1]')[0].text\n",
    "\n",
    "# -------------------------------------------------\n",
    "\n",
    "# criando arquivo excel com nome Dolar e Euro Google1.xlsx no caminho especificado\n",
    "nomeCaminhoArquivo = 'C:\\\\Users\\\\jasantos\\\\Curso RPA\\\\RPA_lIB_XlsxWriter\\\\Arquivos\\\\Dolar e Euro Google1.xlsx'\n",
    "planilhaCriada = xlsxwriter.Workbook(nomeCaminhoArquivo)\n",
    "\n",
    "# criando uma sheet em branco com o nome dsheet1\n",
    "sheet1 = planilhaCriada.add_worksheet() \n",
    "sheet1 .write(\"A1\", \"Dolar\")\n",
    "sheet1 .write(\"B1\", \"Euro\")\n",
    "sheet1 .write(\"A2\", valorDolarPeloGoogle)\n",
    "sheet1 .write(\"B2\", valorEuroPeloGoogle)\n",
    "\n",
    "planilhaCriada.close()\n",
    "\n",
    "os.startfile(nomeCaminhoArquivo)\n",
    "\n",
    "# print(\"Dolar: \" + valorDolarPeloGoogle)\n",
    "# print(\"Euro: \" + valorEuroPeloGoogle)\n",
    "\n",
    "print(\"Dolar e Euro extraído com sucesso\")\n"
   ]
  },
  {
   "cell_type": "code",
   "execution_count": null,
   "id": "200636b1",
   "metadata": {},
   "outputs": [],
   "source": [
    "    \n",
    "    "
   ]
  }
 ],
 "metadata": {
  "kernelspec": {
   "display_name": "Python 3 (ipykernel)",
   "language": "python",
   "name": "python3"
  },
  "language_info": {
   "codemirror_mode": {
    "name": "ipython",
    "version": 3
   },
   "file_extension": ".py",
   "mimetype": "text/x-python",
   "name": "python",
   "nbconvert_exporter": "python",
   "pygments_lexer": "ipython3",
   "version": "3.9.12"
  }
 },
 "nbformat": 4,
 "nbformat_minor": 5
}
